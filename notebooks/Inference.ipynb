{
 "cells": [
  {
   "cell_type": "code",
   "execution_count": null,
   "metadata": {},
   "outputs": [],
   "source": [
    "config_file = \"upsnet/experiments/upsnet_resnet50_ade20k_4gpu.yaml\"\n",
    "if False:\n",
    "    with open(config_file) as f:\n",
    "        print(f.read())\n",
    "final_output_path = 'results'"
   ]
  },
  {
   "cell_type": "code",
   "execution_count": null,
   "metadata": {},
   "outputs": [],
   "source": [
    "import os\n",
    "import sys\n",
    "import logging\n",
    "import pprint\n",
    "import time\n",
    "import numpy as np\n",
    "import pickle\n",
    "import torch\n",
    "import torch.nn as nn\n",
    "import torch.utils.data\n",
    "import torch.backends.cudnn as cudnn\n",
    "import cv2\n",
    "from PIL import Image\n",
    "from upsnet.config.config import config, update_config\n",
    "from lib.utils.logging import create_logger\n",
    "from lib.utils.timer import Timer\n",
    "\n",
    "import warnings\n",
    "warnings.filterwarnings(\"ignore\")\n",
    "\n",
    "update_config(config_file)\n",
    "config.output_path = final_output_path\n",
    "logger, final_output_path = create_logger(config.output_path, config_file, config.dataset.test_image_set)\n",
    "\n",
    "from upsnet.dataset import *\n",
    "from upsnet.models import *\n",
    "from upsnet.bbox.bbox_transform import bbox_transform, clip_boxes, expand_boxes\n",
    "from lib.utils.callback import Speedometer\n",
    "from lib.utils.data_parallel import DataParallel\n",
    "from pycocotools.mask import encode as mask_encode"
   ]
  },
  {
   "cell_type": "markdown",
   "metadata": {},
   "source": [
    "Load Tony's trained segmentation model"
   ]
  },
  {
   "cell_type": "code",
   "execution_count": null,
   "metadata": {},
   "outputs": [],
   "source": [
    "weights_file = \"/data/vision/torralba/scratch/tonypeng/upsnet/output/ade20k/upsnet_resnet50_ade20k_4gpu/frames_training_places_training/upsnet_resnet_50_ade20k_387000.state.pth\"\n",
    "\n",
    "gpus = [int(_) for _ in config.gpus.split(',')]\n",
    "test_model = eval(config.symbol)().cuda(device=gpus[0])\n",
    "test_model.load_state_dict(torch.load(weights_file))\n"
   ]
  },
  {
   "cell_type": "markdown",
   "metadata": {},
   "source": [
    "Load a small test dataset"
   ]
  },
  {
   "cell_type": "code",
   "execution_count": null,
   "metadata": {},
   "outputs": [],
   "source": [
    "test_dataset = eval(config.dataset.dataset)(image_sets=config.dataset.test_image_set.split('+'), flip=False,\n",
    "                                            result_path=final_output_path, phase='test')\n",
    "test_loader = torch.utils.data.DataLoader(test_dataset, batch_size=config.test.batch_size, shuffle=False,\n",
    "                                         num_workers=0, drop_last=False, pin_memory=False, collate_fn=test_dataset.collate)\n",
    "with open('seg-classes.txt') as f:\n",
    "    segclasses = [line.split(':')[1].split(',')[0].strip() for line in f.readlines()]\n",
    "    \n",
    "print(len(test_dataset), 'images')"
   ]
  },
  {
   "cell_type": "markdown",
   "metadata": {},
   "source": [
    "Execute segmentation on one image"
   ]
  },
  {
   "cell_type": "code",
   "execution_count": null,
   "metadata": {},
   "outputs": [],
   "source": [
    "%matplotlib inline\n",
    "from matplotlib import pyplot as plt\n",
    "from viz import show, segviz\n",
    "import PIL\n",
    "\n",
    "image_number = 500\n",
    "\n",
    "data, label, _ = test_dataset.collate([test_dataset[image_number]])\n",
    "if label is not None:\n",
    "    data['roidb'] = label['roidb']\n",
    "for k, v in data.items():\n",
    "    data[k] = v.pin_memory().to('cuda', non_blocking=True) if torch.is_tensor(v) else v\n",
    "    \n",
    "    \n",
    "results = test_model(data)\n",
    "\n",
    "imdata = (data['data'][0].cpu().permute(1,2,0) + torch.tensor([[[103.0, 116.0, 123.0]]])).clamp(0,255).byte()\n",
    "segdata = results['fcn_outputs'][0]\n",
    "\n",
    "def smaller(pil_image):\n",
    "    target_height = 200\n",
    "    target_width = pil_image.width * target_height // pil_image.height\n",
    "    return pil_image.resize((target_width, target_height))\n",
    "\n",
    "show([[smaller(PIL.Image.fromarray(imdata.numpy()))],\n",
    "      [smaller(segviz.seg_as_image(segdata))],\n",
    "      [segviz.segment_key(segdata, classes=segclasses)]])"
   ]
  },
  {
   "cell_type": "code",
   "execution_count": null,
   "metadata": {},
   "outputs": [],
   "source": []
  },
  {
   "cell_type": "code",
   "execution_count": null,
   "metadata": {},
   "outputs": [],
   "source": []
  },
  {
   "cell_type": "code",
   "execution_count": null,
   "metadata": {},
   "outputs": [],
   "source": [
    "results.keys()"
   ]
  },
  {
   "cell_type": "code",
   "execution_count": null,
   "metadata": {},
   "outputs": [],
   "source": [
    "results"
   ]
  },
  {
   "cell_type": "code",
   "execution_count": null,
   "metadata": {},
   "outputs": [],
   "source": []
  },
  {
   "cell_type": "code",
   "execution_count": null,
   "metadata": {},
   "outputs": [],
   "source": [
    "segdata.min()"
   ]
  },
  {
   "cell_type": "code",
   "execution_count": null,
   "metadata": {},
   "outputs": [],
   "source": [
    "type(test_dataset)"
   ]
  },
  {
   "cell_type": "code",
   "execution_count": null,
   "metadata": {},
   "outputs": [],
   "source": [
    "print([data['data'][0][i].cpu().min() for i in range(3)])"
   ]
  }
 ],
 "metadata": {
  "kernelspec": {
   "display_name": "Python 3",
   "language": "python",
   "name": "python3"
  },
  "language_info": {
   "codemirror_mode": {
    "name": "ipython",
    "version": 3
   },
   "file_extension": ".py",
   "mimetype": "text/x-python",
   "name": "python",
   "nbconvert_exporter": "python",
   "pygments_lexer": "ipython3",
   "version": "3.6.10"
  }
 },
 "nbformat": 4,
 "nbformat_minor": 4
}